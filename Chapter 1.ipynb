{
 "cells": [
  {
   "cell_type": "markdown",
   "metadata": {},
   "source": [
    "# Chapter 1: A tour of pandas\n",
    "\n",
    "This chapter presents the mais features of pandas framework."
   ]
  },
  {
   "cell_type": "markdown",
   "metadata": {},
   "source": [
    "The first step in order to use pandas features is to import the **pandas** module, as well as other related modules and objects:"
   ]
  },
  {
   "cell_type": "code",
   "execution_count": 1,
   "metadata": {},
   "outputs": [],
   "source": [
    "# import numpy and pandas, and DataFrame/Series\n",
    "import numpy as np\n",
    "import pandas as pd\n",
    "from pandas import DataFrame, Series\n",
    "\n",
    "# Set some panda options\n",
    "pd.set_option('display.notebook_repr_html', False)\n",
    "pd.set_option('display.max_columns', 10)\n",
    "pd.set_option('display.max_rows', 10)\n",
    "\n",
    "# And some items for matplotlib\n",
    "%matplotlib inline\n",
    "import matplotlib.pyplot as plt"
   ]
  },
  {
   "cell_type": "markdown",
   "metadata": {},
   "source": [
    "## Series\n",
    "\n",
    "The **Series** class is a fundamental pandas data structure. It represents a one dimension array, a sequence of values, but with flexible and powerful indexing capabilities. A pandas **Series** object is a sequence of values which may indexed by integer numbers, strings, dates, times, et."
   ]
  },
  {
   "cell_type": "markdown",
   "metadata": {},
   "source": [
    "The cell below creates a **Series** object, containing the values from 1 to 4. These values are automatically indexed by the **Series** starting from 0:"
   ]
  },
  {
   "cell_type": "code",
   "execution_count": 2,
   "metadata": {},
   "outputs": [
    {
     "data": {
      "text/plain": [
       "0    1\n",
       "1    2\n",
       "2    3\n",
       "3    4\n",
       "dtype: int64"
      ]
     },
     "execution_count": 2,
     "metadata": {},
     "output_type": "execute_result"
    }
   ],
   "source": [
    "# creates a four item Series\n",
    "s = Series([1, 2, 3, 4])\n",
    "s"
   ]
  },
  {
   "cell_type": "markdown",
   "metadata": {},
   "source": [
    "A value in a **Series** object can be accessed by its label:"
   ]
  },
  {
   "cell_type": "code",
   "execution_count": 4,
   "metadata": {},
   "outputs": [
    {
     "data": {
      "text/plain": [
       "3"
      ]
     },
     "execution_count": 4,
     "metadata": {},
     "output_type": "execute_result"
    }
   ],
   "source": [
    "s[2]"
   ]
  },
  {
   "cell_type": "markdown",
   "metadata": {},
   "source": [
    "A list of labels may be used to retrieve more than one value from the **Series**:"
   ]
  },
  {
   "cell_type": "code",
   "execution_count": 3,
   "metadata": {},
   "outputs": [
    {
     "data": {
      "text/plain": [
       "1    2\n",
       "3    4\n",
       "dtype: int64"
      ]
     },
     "execution_count": 3,
     "metadata": {},
     "output_type": "execute_result"
    }
   ],
   "source": [
    "s[[1,3]]"
   ]
  },
  {
   "cell_type": "markdown",
   "metadata": {},
   "source": [
    "The use can explicitly initialize the index of a **Series** object:"
   ]
  },
  {
   "cell_type": "code",
   "execution_count": 8,
   "metadata": {},
   "outputs": [
    {
     "data": {
      "text/plain": [
       "a    1\n",
       "b    2\n",
       "c    3\n",
       "d    4\n",
       "dtype: int64"
      ]
     },
     "execution_count": 8,
     "metadata": {},
     "output_type": "execute_result"
    }
   ],
   "source": [
    "# create a series using an explicit index\n",
    "s = Series([1,2,3,4], index=['a','b','c','d'])\n",
    "s"
   ]
  },
  {
   "cell_type": "markdown",
   "metadata": {},
   "source": [
    "Data in the **Series** object may be accessed by a list of string, like the example below:"
   ]
  },
  {
   "cell_type": "code",
   "execution_count": 9,
   "metadata": {},
   "outputs": [
    {
     "data": {
      "text/plain": [
       "a    1\n",
       "b    2\n",
       "dtype: int64"
      ]
     },
     "execution_count": 9,
     "metadata": {},
     "output_type": "execute_result"
    }
   ],
   "source": [
    "s[['a','b']]"
   ]
  },
  {
   "cell_type": "markdown",
   "metadata": {},
   "source": [
    "However, it is still possible to access the **Series** data trough its numerical indexes:"
   ]
  },
  {
   "cell_type": "code",
   "execution_count": 11,
   "metadata": {},
   "outputs": [
    {
     "data": {
      "text/plain": [
       "c    3\n",
       "d    4\n",
       "dtype: int64"
      ]
     },
     "execution_count": 11,
     "metadata": {},
     "output_type": "execute_result"
    }
   ],
   "source": [
    "s[[2,3]]"
   ]
  },
  {
   "cell_type": "markdown",
   "metadata": {},
   "source": [
    "The **index** property holds an object containing only the indexes of the series:"
   ]
  },
  {
   "cell_type": "code",
   "execution_count": 13,
   "metadata": {},
   "outputs": [
    {
     "data": {
      "text/plain": [
       "Index(['a', 'b', 'c', 'd'], dtype='object')"
      ]
     },
     "execution_count": 13,
     "metadata": {},
     "output_type": "execute_result"
    }
   ],
   "source": [
    "# get only the index of the Series\n",
    "s.index"
   ]
  },
  {
   "cell_type": "markdown",
   "metadata": {},
   "source": [
    "As a **Series** object, an **Index** object offers access to its individual values through 0-based numeric indexes:"
   ]
  },
  {
   "cell_type": "code",
   "execution_count": 16,
   "metadata": {},
   "outputs": [
    {
     "data": {
      "text/plain": [
       "'a'"
      ]
     },
     "execution_count": 16,
     "metadata": {},
     "output_type": "execute_result"
    }
   ],
   "source": [
    "# get the first index\n",
    "s.index[0]"
   ]
  },
  {
   "cell_type": "code",
   "execution_count": 19,
   "metadata": {},
   "outputs": [
    {
     "data": {
      "text/plain": [
       "Index(['c', 'd'], dtype='object')"
      ]
     },
     "execution_count": 19,
     "metadata": {},
     "output_type": "execute_result"
    }
   ],
   "source": [
    "# get the third and fourth indexes of an Index object\n",
    "s.index[[2,3]]"
   ]
  },
  {
   "cell_type": "markdown",
   "metadata": {},
   "source": [
    "In order to represent time series, we can use a **Series** object indexed by date or time values. We can create a date range using the method ```pd.date_range()```:"
   ]
  },
  {
   "cell_type": "code",
   "execution_count": 21,
   "metadata": {},
   "outputs": [
    {
     "data": {
      "text/plain": [
       "DatetimeIndex(['2018-01-01', '2018-01-02', '2018-01-03', '2018-01-04',\n",
       "               '2018-01-05', '2018-01-06', '2018-01-07', '2018-01-08',\n",
       "               '2018-01-09', '2018-01-10',\n",
       "               ...\n",
       "               '2018-05-14', '2018-05-15', '2018-05-16', '2018-05-17',\n",
       "               '2018-05-18', '2018-05-19', '2018-05-20', '2018-05-21',\n",
       "               '2018-05-22', '2018-05-23'],\n",
       "              dtype='datetime64[ns]', length=143, freq='D')"
      ]
     },
     "execution_count": 21,
     "metadata": {},
     "output_type": "execute_result"
    }
   ],
   "source": [
    "dates = pd.date_range('2018-01-01', '2018-05-23')\n",
    "dates"
   ]
  },
  {
   "cell_type": "markdown",
   "metadata": {},
   "source": [
    "We can control the frequency for which values in a date range are created trough the ```freq``` argument. The default value of the ```freq``` argument is ```'D'```, which indicates that the values in the created range are spaced by 1 day. In the example below, the values in the range created are spaced by 1 month:"
   ]
  },
  {
   "cell_type": "code",
   "execution_count": 23,
   "metadata": {},
   "outputs": [
    {
     "data": {
      "text/plain": [
       "DatetimeIndex(['2018-01-31', '2018-02-28', '2018-03-31', '2018-04-30'], dtype='datetime64[ns]', freq='M')"
      ]
     },
     "execution_count": 23,
     "metadata": {},
     "output_type": "execute_result"
    }
   ],
   "source": [
    "dates = pd.date_range('2018-01-01', '2018-05-23', freq='M')\n",
    "dates"
   ]
  },
  {
   "cell_type": "markdown",
   "metadata": {},
   "source": [
    "Then, a range created using the ```pd.date_range()``` method can be used as an index for a **Series** object:"
   ]
  },
  {
   "cell_type": "code",
   "execution_count": 25,
   "metadata": {},
   "outputs": [
    {
     "data": {
      "text/plain": [
       "2018-05-01    80\n",
       "2018-05-02    82\n",
       "2018-05-03    85\n",
       "2018-05-04    90\n",
       "2018-05-05    83\n",
       "2018-05-06    87\n",
       "Freq: D, dtype: int64"
      ]
     },
     "execution_count": 25,
     "metadata": {},
     "output_type": "execute_result"
    }
   ],
   "source": [
    "# creates a Series with values (representing temperatures)\n",
    "# for each date in the index\n",
    "dates = pd.date_range('2018-05-01', '2018-05-06')\n",
    "temps1 = Series([80, 82, 85, 90, 83, 87], index = dates)\n",
    "temps1"
   ]
  },
  {
   "cell_type": "markdown",
   "metadata": {},
   "source": [
    "We can easily apply statistical methods provided by NumPy to a pandas **Series** object. For example, the code below returns the mean of the temperatures from 2018-05-01 to 2018-05-06:"
   ]
  },
  {
   "cell_type": "code",
   "execution_count": 29,
   "metadata": {},
   "outputs": [
    {
     "data": {
      "text/plain": [
       "84.5"
      ]
     },
     "execution_count": 29,
     "metadata": {},
     "output_type": "execute_result"
    }
   ],
   "source": [
    "temps1.mean()"
   ]
  },
  {
   "cell_type": "markdown",
   "metadata": {},
   "source": [
    "Two **Series** objects which have the same indexes may be applied to each other using arithmetic operations. The result is another **Series** object such that each value is operated individually:"
   ]
  },
  {
   "cell_type": "code",
   "execution_count": 31,
   "metadata": {},
   "outputs": [
    {
     "data": {
      "text/plain": [
       "2018-05-01    70\n",
       "2018-05-02    75\n",
       "2018-05-03    69\n",
       "2018-05-04    83\n",
       "2018-05-05    79\n",
       "2018-05-06    77\n",
       "Freq: D, dtype: int64"
      ]
     },
     "execution_count": 31,
     "metadata": {},
     "output_type": "execute_result"
    }
   ],
   "source": [
    "# creates a second series of values using the same index\n",
    "temps2 = Series([70, 75, 69, 83, 79, 77], index = dates)\n",
    "temps2"
   ]
  },
  {
   "cell_type": "code",
   "execution_count": 34,
   "metadata": {},
   "outputs": [
    {
     "data": {
      "text/plain": [
       "2018-05-01    10\n",
       "2018-05-02     7\n",
       "2018-05-03    16\n",
       "2018-05-04     7\n",
       "2018-05-05     4\n",
       "2018-05-06    10\n",
       "Freq: D, dtype: int64"
      ]
     },
     "execution_count": 34,
     "metadata": {},
     "output_type": "execute_result"
    }
   ],
   "source": [
    "# the following aligns the two by their index values \n",
    "# and calculates the difference at those matching labels\n",
    "temp_diffs = temps1 - temps2\n",
    "temp_diffs"
   ]
  },
  {
   "cell_type": "markdown",
   "metadata": {},
   "source": [
    "Besides subtraction, **Series** objects may be summed, multiplied and divided in a element by element mode:"
   ]
  },
  {
   "cell_type": "code",
   "execution_count": 36,
   "metadata": {},
   "outputs": [
    {
     "data": {
      "text/plain": [
       "2018-05-01    150\n",
       "2018-05-02    157\n",
       "2018-05-03    154\n",
       "2018-05-04    173\n",
       "2018-05-05    162\n",
       "2018-05-06    164\n",
       "Freq: D, dtype: int64"
      ]
     },
     "execution_count": 36,
     "metadata": {},
     "output_type": "execute_result"
    }
   ],
   "source": [
    "# sum of series objecs\n",
    "temps1 + temps2"
   ]
  },
  {
   "cell_type": "code",
   "execution_count": 38,
   "metadata": {},
   "outputs": [
    {
     "data": {
      "text/plain": [
       "2018-05-01    5600\n",
       "2018-05-02    6150\n",
       "2018-05-03    5865\n",
       "2018-05-04    7470\n",
       "2018-05-05    6557\n",
       "2018-05-06    6699\n",
       "Freq: D, dtype: int64"
      ]
     },
     "execution_count": 38,
     "metadata": {},
     "output_type": "execute_result"
    }
   ],
   "source": [
    "# multiplication of series objects\n",
    "temps1 * temps2"
   ]
  },
  {
   "cell_type": "code",
   "execution_count": 40,
   "metadata": {},
   "outputs": [
    {
     "data": {
      "text/plain": [
       "2018-05-01    1.142857\n",
       "2018-05-02    1.093333\n",
       "2018-05-03    1.231884\n",
       "2018-05-04    1.084337\n",
       "2018-05-05    1.050633\n",
       "2018-05-06    1.129870\n",
       "Freq: D, dtype: float64"
      ]
     },
     "execution_count": 40,
     "metadata": {},
     "output_type": "execute_result"
    }
   ],
   "source": [
    "# division of series objects\n",
    "temps1 / temps2"
   ]
  },
  {
   "cell_type": "markdown",
   "metadata": {},
   "source": [
    "What would happen if we try to operate two **Series** with different indexes ? Let's give a try!"
   ]
  },
  {
   "cell_type": "code",
   "execution_count": 46,
   "metadata": {},
   "outputs": [
    {
     "data": {
      "text/plain": [
       "2018-04-20   NaN\n",
       "2018-04-21   NaN\n",
       "2018-04-22   NaN\n",
       "2018-04-23   NaN\n",
       "2018-04-24   NaN\n",
       "2018-05-20   NaN\n",
       "2018-05-21   NaN\n",
       "2018-05-22   NaN\n",
       "2018-05-23   NaN\n",
       "2018-05-24   NaN\n",
       "dtype: float64"
      ]
     },
     "execution_count": 46,
     "metadata": {},
     "output_type": "execute_result"
    }
   ],
   "source": [
    "# tempsApr and tempsMay are valid Series objects\n",
    "tempsApr = Series([29, 30, 28, 31, 32], index = pd.date_range('2018-04-20', '2018-04-24'))\n",
    "tempsMay = Series([26, 24, 22, 22, 19], index = pd.date_range('2018-05-20', '2018-05-24'))\n",
    "\n",
    "tempsMay - tempsApr"
   ]
  },
  {
   "cell_type": "markdown",
   "metadata": {},
   "source": [
    "So, if we operate two **Series** objects with indexes of different lengths and values, the resulting index is a sorted union of the two indexes. "
   ]
  },
  {
   "cell_type": "markdown",
   "metadata": {},
   "source": [
    "## DataFrame\n",
    "\n"
   ]
  },
  {
   "cell_type": "markdown",
   "metadata": {},
   "source": [
    "The **DataFrame** data structure groups multiple **Series** objects together and align them by a single index."
   ]
  },
  {
   "cell_type": "code",
   "execution_count": 47,
   "metadata": {},
   "outputs": [
    {
     "data": {
      "text/plain": [
       "            Missoula  Philadelphia\n",
       "2018-05-01        80            70\n",
       "2018-05-02        82            75\n",
       "2018-05-03        85            69\n",
       "2018-05-04        90            83\n",
       "2018-05-05        83            79\n",
       "2018-05-06        87            77"
      ]
     },
     "execution_count": 47,
     "metadata": {},
     "output_type": "execute_result"
    }
   ],
   "source": [
    "# create a DataFrame from the two series objects temp1 and temp2 \n",
    "# and give them column names\n",
    "temps_df = DataFrame({\n",
    "    'Missoula': temps1,\n",
    "    'Philadelphia': temps2\n",
    "})\n",
    "temps_df"
   ]
  },
  {
   "cell_type": "markdown",
   "metadata": {},
   "source": [
    "Columns can be acessed using an array index by its name or a list of names:"
   ]
  },
  {
   "cell_type": "code",
   "execution_count": 48,
   "metadata": {},
   "outputs": [
    {
     "data": {
      "text/plain": [
       "2018-05-01    80\n",
       "2018-05-02    82\n",
       "2018-05-03    85\n",
       "2018-05-04    90\n",
       "2018-05-05    83\n",
       "2018-05-06    87\n",
       "Freq: D, Name: Missoula, dtype: int64"
      ]
     },
     "execution_count": 48,
     "metadata": {},
     "output_type": "execute_result"
    }
   ],
   "source": [
    "# get the column with the name Missoula\n",
    "temps_df['Missoula']"
   ]
  },
  {
   "cell_type": "code",
   "execution_count": 50,
   "metadata": {},
   "outputs": [
    {
     "data": {
      "text/plain": [
       "2018-05-01    70\n",
       "2018-05-02    75\n",
       "2018-05-03    69\n",
       "2018-05-04    83\n",
       "2018-05-05    79\n",
       "2018-05-06    77\n",
       "Freq: D, Name: Philadelphia, dtype: int64"
      ]
     },
     "execution_count": 50,
     "metadata": {},
     "output_type": "execute_result"
    }
   ],
   "source": [
    "# likewise, we can get just the Pihladelphia column\n",
    "temps_df['Philadelphia']"
   ]
  },
  {
   "cell_type": "markdown",
   "metadata": {},
   "source": [
    "Once we retrieved a column by its name, we can get a value using an index label:"
   ]
  },
  {
   "cell_type": "code",
   "execution_count": 51,
   "metadata": {},
   "outputs": [
    {
     "data": {
      "text/plain": [
       "82"
      ]
     },
     "execution_count": 51,
     "metadata": {},
     "output_type": "execute_result"
    }
   ],
   "source": [
    "temps_df['Missoula']['2018-05-02']"
   ]
  },
  {
   "cell_type": "code",
   "execution_count": 53,
   "metadata": {},
   "outputs": [
    {
     "data": {
      "text/plain": [
       "            Philadelphia  Missoula\n",
       "2018-05-01            70        80\n",
       "2018-05-02            75        82\n",
       "2018-05-03            69        85\n",
       "2018-05-04            83        90\n",
       "2018-05-05            79        83\n",
       "2018-05-06            77        87"
      ]
     },
     "execution_count": 53,
     "metadata": {},
     "output_type": "execute_result"
    }
   ],
   "source": [
    "# return both columns in a different order\n",
    "temps_df[['Philadelphia', 'Missoula']]"
   ]
  },
  {
   "cell_type": "markdown",
   "metadata": {},
   "source": [
    "If the column name doesn't have spaces, we can use property-style notation to retrieve a column:"
   ]
  },
  {
   "cell_type": "code",
   "execution_count": 55,
   "metadata": {},
   "outputs": [
    {
     "data": {
      "text/plain": [
       "2018-05-01    80\n",
       "2018-05-02    82\n",
       "2018-05-03    85\n",
       "2018-05-04    90\n",
       "2018-05-05    83\n",
       "2018-05-06    87\n",
       "Freq: D, Name: Missoula, dtype: int64"
      ]
     },
     "execution_count": 55,
     "metadata": {},
     "output_type": "execute_result"
    }
   ],
   "source": [
    "# return the Missoula column using a property\n",
    "temps_df.Missoula"
   ]
  },
  {
   "cell_type": "markdown",
   "metadata": {},
   "source": [
    "Arithmetic operations between columns may be performed to **DataFrame** columns just like with **Series** objects:"
   ]
  },
  {
   "cell_type": "code",
   "execution_count": 56,
   "metadata": {},
   "outputs": [
    {
     "data": {
      "text/plain": [
       "2018-05-01    10\n",
       "2018-05-02     7\n",
       "2018-05-03    16\n",
       "2018-05-04     7\n",
       "2018-05-05     4\n",
       "2018-05-06    10\n",
       "Freq: D, dtype: int64"
      ]
     },
     "execution_count": 56,
     "metadata": {},
     "output_type": "execute_result"
    }
   ],
   "source": [
    "# calculate the temperature difference between the two cities\n",
    "temps_df.Missoula - temps_df.Philadelphia"
   ]
  },
  {
   "cell_type": "markdown",
   "metadata": {},
   "source": [
    "A new column can be created simply by assigning a **Series** object to a new column name ising the array index notation:"
   ]
  },
  {
   "cell_type": "code",
   "execution_count": 60,
   "metadata": {},
   "outputs": [
    {
     "data": {
      "text/plain": [
       "            Missoula  Philadelphia  Difference\n",
       "2018-05-01        80            70          10\n",
       "2018-05-02        82            75           7\n",
       "2018-05-03        85            69          16\n",
       "2018-05-04        90            83           7\n",
       "2018-05-05        83            79           4\n",
       "2018-05-06        87            77          10"
      ]
     },
     "execution_count": 60,
     "metadata": {},
     "output_type": "execute_result"
    }
   ],
   "source": [
    "temps_df['Difference'] = temp_diffs\n",
    "temps_df"
   ]
  },
  {
   "cell_type": "markdown",
   "metadata": {},
   "source": [
    "Also, the names of the columns can be accessed trough the ```.columns``` property:"
   ]
  },
  {
   "cell_type": "code",
   "execution_count": 61,
   "metadata": {},
   "outputs": [
    {
     "data": {
      "text/plain": [
       "Index(['Missoula', 'Philadelphia', 'Difference'], dtype='object')"
      ]
     },
     "execution_count": 61,
     "metadata": {},
     "output_type": "execute_result"
    }
   ],
   "source": [
    "temps_df.columns"
   ]
  },
  {
   "cell_type": "markdown",
   "metadata": {},
   "source": [
    "The columns of a **DataFrame** can be sliced:"
   ]
  },
  {
   "cell_type": "code",
   "execution_count": 63,
   "metadata": {},
   "outputs": [
    {
     "data": {
      "text/plain": [
       "2018-05-02     7\n",
       "2018-05-03    16\n",
       "2018-05-04     7\n",
       "Freq: D, Name: Difference, dtype: int64"
      ]
     },
     "execution_count": 63,
     "metadata": {},
     "output_type": "execute_result"
    }
   ],
   "source": [
    "temps_df.Difference[1:4]"
   ]
  },
  {
   "cell_type": "markdown",
   "metadata": {},
   "source": [
    "An entire row can be retrieved from the **DataFrame** using the ```.loc``` and ```.iloc``` properties and indexing them:"
   ]
  },
  {
   "cell_type": "code",
   "execution_count": 64,
   "metadata": {},
   "outputs": [
    {
     "data": {
      "text/plain": [
       "Missoula        82\n",
       "Philadelphia    75\n",
       "Difference       7\n",
       "Name: 2018-05-02 00:00:00, dtype: int64"
      ]
     },
     "execution_count": 64,
     "metadata": {},
     "output_type": "execute_result"
    }
   ],
   "source": [
    "temps_df.iloc[1]"
   ]
  },
  {
   "cell_type": "code",
   "execution_count": 67,
   "metadata": {},
   "outputs": [
    {
     "data": {
      "text/plain": [
       "Missoula        83\n",
       "Philadelphia    79\n",
       "Difference       4\n",
       "Name: 2018-05-05 00:00:00, dtype: int64"
      ]
     },
     "execution_count": 67,
     "metadata": {},
     "output_type": "execute_result"
    }
   ],
   "source": [
    "temps_df.loc['2018-05-05']"
   ]
  },
  {
   "cell_type": "markdown",
   "metadata": {},
   "source": [
    "The row is converted to a **Series** object, and it is indexed by the column names:"
   ]
  },
  {
   "cell_type": "code",
   "execution_count": 71,
   "metadata": {},
   "outputs": [
    {
     "data": {
      "text/plain": [
       "Index(['Missoula', 'Philadelphia', 'Difference'], dtype='object')"
      ]
     },
     "execution_count": 71,
     "metadata": {},
     "output_type": "execute_result"
    }
   ],
   "source": [
    "# the names of the columns have become the index\n",
    "# they have been 'pivoted'\n",
    "temps_df.loc['2018-05-02'].index"
   ]
  },
  {
   "cell_type": "markdown",
   "metadata": {},
   "source": [
    "Rows of a **DataFrame** can be selected based upon a logical expression applied to the data in each row:"
   ]
  },
  {
   "cell_type": "code",
   "execution_count": 72,
   "metadata": {},
   "outputs": [
    {
     "data": {
      "text/plain": [
       "2018-05-01    False\n",
       "2018-05-02    False\n",
       "2018-05-03     True\n",
       "2018-05-04     True\n",
       "2018-05-05     True\n",
       "2018-05-06     True\n",
       "Freq: D, Name: Missoula, dtype: bool"
      ]
     },
     "execution_count": 72,
     "metadata": {},
     "output_type": "execute_result"
    }
   ],
   "source": [
    "# which values in the Missoula column are > 82 ?\n",
    "temps_df.Missoula > 82"
   ]
  },
  {
   "cell_type": "code",
   "execution_count": 73,
   "metadata": {},
   "outputs": [
    {
     "data": {
      "text/plain": [
       "            Missoula  Philadelphia  Difference\n",
       "2018-05-03        85            69          16\n",
       "2018-05-04        90            83           7\n",
       "2018-05-05        83            79           4\n",
       "2018-05-06        87            77          10"
      ]
     },
     "execution_count": 73,
     "metadata": {},
     "output_type": "execute_result"
    }
   ],
   "source": [
    "# return the rows where the temps for Missoula > 82\n",
    "temps_df[temps_df.Missoula > 82]"
   ]
  },
  {
   "cell_type": "markdown",
   "metadata": {},
   "source": [
    "### Loading CSV data from files"
   ]
  },
  {
   "cell_type": "markdown",
   "metadata": {},
   "source": [
    "We can use pandas to load data from a CSV file to a **DataFrame**:"
   ]
  },
  {
   "cell_type": "code",
   "execution_count": 75,
   "metadata": {},
   "outputs": [
    {
     "name": "stdout",
     "output_type": "stream",
     "text": [
      "date,0,1,2\n",
      "2000-01-01 00:00:00,1.10376250134,-1.90997889703,-0.808955536115\n",
      "2000-01-02 00:00:00,1.18891664768,0.581119740849,0.86159734949\n",
      "2000-01-03 00:00:00,-0.964200042412,0.779764393246,1.82906224532\n",
      "2000-01-04 00:00:00,0.782130444001,-1.72066965573,-1.10824167327\n",
      "2000-01-05 00:00:00,-1.86701699823,-0.528368292754,-2.48830894087\n",
      "2000-01-06 00:00:00,2.56928022646,-0.471901478927,-0.835033249865\n",
      "2000-01-07 00:00:00,-0.39932258251,-0.676426550985,-0.0112559158931\n",
      "2000-01-08 00:00:00,1.64299299394,1.01341997845,1.43566709724\n",
      "2000-01-09 00:00:00,1.14730764657,2.13799951538,0.554171306191\n",
      "2000-01-10 00:00:00,0.933765825769,1.38715526486,-0.560142729978\n"
     ]
    }
   ],
   "source": [
    "# display the contents of test1.csv\n",
    "\n",
    "# unix-like systems\n",
    "# !cat data/test1.cs\n",
    " \n",
    "# on windows systems\n",
    "!type data\\test1.csv "
   ]
  },
  {
   "cell_type": "code",
   "execution_count": 76,
   "metadata": {},
   "outputs": [
    {
     "data": {
      "text/plain": [
       "                  date         0         1         2\n",
       "0  2000-01-01 00:00:00  1.103763 -1.909979 -0.808956\n",
       "1  2000-01-02 00:00:00  1.188917  0.581120  0.861597\n",
       "2  2000-01-03 00:00:00 -0.964200  0.779764  1.829062\n",
       "3  2000-01-04 00:00:00  0.782130 -1.720670 -1.108242\n",
       "4  2000-01-05 00:00:00 -1.867017 -0.528368 -2.488309\n",
       "5  2000-01-06 00:00:00  2.569280 -0.471901 -0.835033\n",
       "6  2000-01-07 00:00:00 -0.399323 -0.676427 -0.011256\n",
       "7  2000-01-08 00:00:00  1.642993  1.013420  1.435667\n",
       "8  2000-01-09 00:00:00  1.147308  2.138000  0.554171\n",
       "9  2000-01-10 00:00:00  0.933766  1.387155 -0.560143"
      ]
     },
     "execution_count": 76,
     "metadata": {},
     "output_type": "execute_result"
    }
   ],
   "source": [
    "# read the contents of the file into a DataFrame\n",
    "df = pd.read_csv('data/test1.csv')\n",
    "df"
   ]
  },
  {
   "cell_type": "markdown",
   "metadata": {},
   "source": [
    "The first column of the file was loaded as a column of strings:"
   ]
  },
  {
   "cell_type": "code",
   "execution_count": 77,
   "metadata": {},
   "outputs": [
    {
     "data": {
      "text/plain": [
       "0    2000-01-01 00:00:00\n",
       "1    2000-01-02 00:00:00\n",
       "2    2000-01-03 00:00:00\n",
       "3    2000-01-04 00:00:00\n",
       "4    2000-01-05 00:00:00\n",
       "5    2000-01-06 00:00:00\n",
       "6    2000-01-07 00:00:00\n",
       "7    2000-01-08 00:00:00\n",
       "8    2000-01-09 00:00:00\n",
       "9    2000-01-10 00:00:00\n",
       "Name: date, dtype: object"
      ]
     },
     "execution_count": 77,
     "metadata": {},
     "output_type": "execute_result"
    }
   ],
   "source": [
    "# the contents of the date column\n",
    "df.date"
   ]
  },
  {
   "cell_type": "code",
   "execution_count": 78,
   "metadata": {},
   "outputs": [
    {
     "data": {
      "text/plain": [
       "'2000-01-01 00:00:00'"
      ]
     },
     "execution_count": 78,
     "metadata": {},
     "output_type": "execute_result"
    }
   ],
   "source": [
    "# we can get the first value in the date column\n",
    "df.date[0]"
   ]
  },
  {
   "cell_type": "code",
   "execution_count": 79,
   "metadata": {},
   "outputs": [
    {
     "data": {
      "text/plain": [
       "str"
      ]
     },
     "execution_count": 79,
     "metadata": {},
     "output_type": "execute_result"
    }
   ],
   "source": [
    "# it is a string\n",
    "type(df.date[0])"
   ]
  },
  {
   "cell_type": "markdown",
   "metadata": {},
   "source": [
    "However, we can instruct pandas to convert the strings in the first column to **TimeStamp** objects, which actually represents date and time:"
   ]
  },
  {
   "cell_type": "code",
   "execution_count": 80,
   "metadata": {},
   "outputs": [
    {
     "data": {
      "text/plain": [
       "        date         0         1         2\n",
       "0 2000-01-01  1.103763 -1.909979 -0.808956\n",
       "1 2000-01-02  1.188917  0.581120  0.861597\n",
       "2 2000-01-03 -0.964200  0.779764  1.829062\n",
       "3 2000-01-04  0.782130 -1.720670 -1.108242\n",
       "4 2000-01-05 -1.867017 -0.528368 -2.488309\n",
       "5 2000-01-06  2.569280 -0.471901 -0.835033\n",
       "6 2000-01-07 -0.399323 -0.676427 -0.011256\n",
       "7 2000-01-08  1.642993  1.013420  1.435667\n",
       "8 2000-01-09  1.147308  2.138000  0.554171\n",
       "9 2000-01-10  0.933766  1.387155 -0.560143"
      ]
     },
     "execution_count": 80,
     "metadata": {},
     "output_type": "execute_result"
    }
   ],
   "source": [
    "# read the data and tell pandas the date column should be a date\n",
    "# in the resulting DataFrame\n",
    "df = pd.read_csv('data/test1.csv', parse_dates=['date'])\n",
    "df"
   ]
  },
  {
   "cell_type": "code",
   "execution_count": 82,
   "metadata": {},
   "outputs": [
    {
     "data": {
      "text/plain": [
       "pandas._libs.tslib.Timestamp"
      ]
     },
     "execution_count": 82,
     "metadata": {},
     "output_type": "execute_result"
    }
   ],
   "source": [
    "# verify the type now is date\n",
    "# in pandas, this is actually a Timestamp\n",
    "type(df.date[0])"
   ]
  },
  {
   "cell_type": "markdown",
   "metadata": {},
   "source": [
    "By default, a **DataFrame** created by loading a CSV file is indexed by a zero-based integer sequence:"
   ]
  },
  {
   "cell_type": "code",
   "execution_count": 84,
   "metadata": {},
   "outputs": [
    {
     "data": {
      "text/plain": [
       "RangeIndex(start=0, stop=10, step=1)"
      ]
     },
     "execution_count": 84,
     "metadata": {},
     "output_type": "execute_result"
    }
   ],
   "source": [
    "# unfortunately the index is numeric, which makes\n",
    "# accessing data by date more complicated\n",
    "df.index"
   ]
  },
  {
   "cell_type": "markdown",
   "metadata": {},
   "source": [
    "However, we can use the ```index_col``` argument to indicate the data column pandas should use to index the **DataFrame**:"
   ]
  },
  {
   "cell_type": "code",
   "execution_count": 86,
   "metadata": {},
   "outputs": [
    {
     "data": {
      "text/plain": [
       "                   0         1         2\n",
       "date                                    \n",
       "2000-01-01  1.103763 -1.909979 -0.808956\n",
       "2000-01-02  1.188917  0.581120  0.861597\n",
       "2000-01-03 -0.964200  0.779764  1.829062\n",
       "2000-01-04  0.782130 -1.720670 -1.108242\n",
       "2000-01-05 -1.867017 -0.528368 -2.488309\n",
       "2000-01-06  2.569280 -0.471901 -0.835033\n",
       "2000-01-07 -0.399323 -0.676427 -0.011256\n",
       "2000-01-08  1.642993  1.013420  1.435667\n",
       "2000-01-09  1.147308  2.138000  0.554171\n",
       "2000-01-10  0.933766  1.387155 -0.560143"
      ]
     },
     "execution_count": 86,
     "metadata": {},
     "output_type": "execute_result"
    }
   ],
   "source": [
    "# read in again, now specify the data column as being the \n",
    "# index of the resulting DataFrame\n",
    "df = pd.read_csv('data/test1.csv', parse_dates=['date'], index_col='date')\n",
    "df"
   ]
  },
  {
   "cell_type": "code",
   "execution_count": 87,
   "metadata": {},
   "outputs": [
    {
     "data": {
      "text/plain": [
       "DatetimeIndex(['2000-01-01', '2000-01-02', '2000-01-03', '2000-01-04',\n",
       "               '2000-01-05', '2000-01-06', '2000-01-07', '2000-01-08',\n",
       "               '2000-01-09', '2000-01-10'],\n",
       "              dtype='datetime64[ns]', name='date', freq=None)"
      ]
     },
     "execution_count": 87,
     "metadata": {},
     "output_type": "execute_result"
    }
   ],
   "source": [
    "df.index"
   ]
  },
  {
   "cell_type": "markdown",
   "metadata": {},
   "source": [
    "### Loading data from the Web"
   ]
  },
  {
   "cell_type": "code",
   "execution_count": 94,
   "metadata": {},
   "outputs": [
    {
     "data": {
      "text/plain": [
       "                     Close     High       Low     Open   Volume\n",
       "Symbol Date                                                    \n",
       "GOOG   2018-05-21  1079.58  1088.00  1073.650  1074.06  1023211\n",
       "       2018-05-22  1069.73  1086.59  1066.690  1083.56  1090002\n",
       "       2018-05-23  1079.69  1080.78  1061.710  1065.13  1060683\n",
       "       2018-05-24  1079.24  1080.47  1066.150  1079.00   756152\n",
       "       2018-05-25  1075.66  1082.56  1073.775  1079.02   899406"
      ]
     },
     "execution_count": 94,
     "metadata": {},
     "output_type": "execute_result"
    }
   ],
   "source": [
    "# imports for reading data from MorningStar\n",
    "from pandas_datareader import DataReader\n",
    "from datetime import date\n",
    "from dateutil.relativedelta import relativedelta\n",
    "\n",
    "# read the last three months of data for GOOG\n",
    "goog = DataReader(\"GOOG\", \"morningstar\", date.today() + relativedelta(months=-3))\n",
    "\n",
    "# the result is a DataFrame\n",
    "# and this gives the 5 most recent prices\n",
    "goog.tail()"
   ]
  },
  {
   "cell_type": "code",
   "execution_count": 95,
   "metadata": {},
   "outputs": [
    {
     "data": {
      "text/plain": [
       "<matplotlib.axes._subplots.AxesSubplot at 0x1b78f3dc7b8>"
      ]
     },
     "execution_count": 95,
     "metadata": {},
     "output_type": "execute_result"
    },
    {
     "data": {
      "image/png": "[encoded data removed]",
      "text/plain": [
       "<matplotlib.figure.Figure at 0x1b78c094ba8>"
      ]
     },
     "metadata": {},
     "output_type": "display_data"
    }
   ],
   "source": [
    "# plot the closing price of GOOG\n",
    "goog.plot(y='Close')"
   ]
  }
 ],
 "metadata": {
  "kernelspec": {
   "display_name": "Python 3",
   "language": "python",
   "name": "python3"
  },
  "language_info": {
   "codemirror_mode": {
    "name": "ipython",
    "version": 3
   },
   "file_extension": ".py",
   "mimetype": "text/x-python",
   "name": "python",
   "nbconvert_exporter": "python",
   "pygments_lexer": "ipython3",
   "version": "3.6.4"
  }
 },
 "nbformat": 4,
 "nbformat_minor": 2
}
